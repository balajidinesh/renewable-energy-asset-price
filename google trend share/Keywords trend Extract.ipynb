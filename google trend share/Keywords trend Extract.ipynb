{
 "cells": [
  {
   "cell_type": "code",
   "execution_count": 6,
   "id": "f1f6c7f2-c6dc-48c1-be2f-449f59b53eba",
   "metadata": {},
   "outputs": [
    {
     "name": "stdout",
     "output_type": "stream",
     "text": [
      "Fetching trend data for: CBDC\n",
      "Fetching 'CBDC' for period:2020-04-07 2021-01-01\n"
     ]
    },
    {
     "name": "stderr",
     "output_type": "stream",
     "text": [
      "/mnt/c/Users/SRIDEVI/Desktop/renewable energy/Review-Restart/google trends/google trend share/gtrend.py:102: FutureWarning: Setting an item of incompatible dtype is deprecated and will raise in a future error of pandas. Value 'None' has dtype incompatible with int64, please explicitly cast to a compatible dtype first.\n",
      "  ol_temp.iloc[:,:] = None\n"
     ]
    },
    {
     "name": "stdout",
     "output_type": "stream",
     "text": [
      "Fetching 'CBDC' for period:2019-10-21 2020-07-16\n"
     ]
    },
    {
     "name": "stderr",
     "output_type": "stream",
     "text": [
      "/mnt/c/Users/SRIDEVI/Desktop/renewable energy/Review-Restart/google trends/google trend share/gtrend.py:102: FutureWarning: Setting an item of incompatible dtype is deprecated and will raise in a future error of pandas. Value 'None' has dtype incompatible with int64, please explicitly cast to a compatible dtype first.\n",
      "  ol_temp.iloc[:,:] = None\n"
     ]
    },
    {
     "name": "stdout",
     "output_type": "stream",
     "text": [
      "Normalize by overlapping period:2020-04-07 2020-07-16\n",
      "Fetching 'CBDC' for period:2019-05-05 2020-01-29\n"
     ]
    },
    {
     "name": "stderr",
     "output_type": "stream",
     "text": [
      "/mnt/c/Users/SRIDEVI/Desktop/renewable energy/Review-Restart/google trends/google trend share/gtrend.py:102: FutureWarning: Setting an item of incompatible dtype is deprecated and will raise in a future error of pandas. Value 'None' has dtype incompatible with int64, please explicitly cast to a compatible dtype first.\n",
      "  ol_temp.iloc[:,:] = None\n"
     ]
    },
    {
     "name": "stdout",
     "output_type": "stream",
     "text": [
      "Normalize by overlapping period:2019-10-21 2020-01-29\n",
      "Saved updated trends to pickles/misc__0_2020-01-01_2021-01-01.pkl\n",
      "Fetching trend data for: Central Bank Digital Currency\n",
      "Fetching 'Central Bank Digital Currency' for period:2020-04-07 2021-01-01\n"
     ]
    },
    {
     "name": "stderr",
     "output_type": "stream",
     "text": [
      "/mnt/c/Users/SRIDEVI/Desktop/renewable energy/Review-Restart/google trends/google trend share/gtrend.py:102: FutureWarning: Setting an item of incompatible dtype is deprecated and will raise in a future error of pandas. Value 'None' has dtype incompatible with int64, please explicitly cast to a compatible dtype first.\n",
      "  ol_temp.iloc[:,:] = None\n"
     ]
    },
    {
     "name": "stdout",
     "output_type": "stream",
     "text": [
      "Fetching 'Central Bank Digital Currency' for period:2019-10-21 2020-07-16\n",
      "The request failed: Google returned a response with code 429\n",
      "Trying again in 65 seconds.\n"
     ]
    },
    {
     "name": "stderr",
     "output_type": "stream",
     "text": [
      "/mnt/c/Users/SRIDEVI/Desktop/renewable energy/Review-Restart/google trends/google trend share/gtrend.py:102: FutureWarning: Setting an item of incompatible dtype is deprecated and will raise in a future error of pandas. Value 'None' has dtype incompatible with int64, please explicitly cast to a compatible dtype first.\n",
      "  ol_temp.iloc[:,:] = None\n"
     ]
    },
    {
     "name": "stdout",
     "output_type": "stream",
     "text": [
      "Normalize by overlapping period:2020-04-07 2020-07-16\n",
      "Fetching 'Central Bank Digital Currency' for period:2019-05-05 2020-01-29\n"
     ]
    },
    {
     "name": "stderr",
     "output_type": "stream",
     "text": [
      "/mnt/c/Users/SRIDEVI/Desktop/renewable energy/Review-Restart/google trends/google trend share/gtrend.py:102: FutureWarning: Setting an item of incompatible dtype is deprecated and will raise in a future error of pandas. Value 'None' has dtype incompatible with int64, please explicitly cast to a compatible dtype first.\n",
      "  ol_temp.iloc[:,:] = None\n"
     ]
    },
    {
     "name": "stdout",
     "output_type": "stream",
     "text": [
      "Normalize by overlapping period:2019-10-21 2020-01-29\n",
      "Saved updated trends to pickles/misc__0_2020-01-01_2021-01-01.pkl\n",
      "Data saved to CSV: csv/misc__0_2020-01-01_2021-01-01_google_trends.csv\n",
      "Performing PCA on trend data...\n",
      "PCA first component saved to CSV: csv/misc02020-01-012021-01-01_pca_component_1.csv\n",
      "Total number of trends collected: 2\n",
      "PCA explained variance ratio: 0.6252808525317468\n"
     ]
    }
   ],
   "source": [
    "import os\n",
    "import pickle\n",
    "import pandas as pd\n",
    "import time\n",
    "import random\n",
    "import gtrend\n",
    "from pytrends.request import TrendReq\n",
    "from sklearn.decomposition import PCA\n",
    "\n",
    "# Initialize pytrends request\n",
    "pytrend = TrendReq(hl='en-US')\n",
    "\n",
    "# Query parameters\n",
    "keywords = [\"CBDC\", \"Central Bank Digital Currency\"]\n",
    "name = 'misc'  # Group name\n",
    "\n",
    "# Start and end dates for the trends data YYYY-MM-DD\n",
    "start = '2020-01-01'\n",
    "end = '2021-01-01'\n",
    "\n",
    "# Geo refers to the geographical location. Examples:\n",
    "# - 'US' for United States (entire country)\n",
    "# - 'US-CA' for California, United States (specific state)\n",
    "# - 'GB' for Great Britain (entire country)\n",
    "# - 'GB-ENG' for England, Great Britain (specific region)\n",
    "# - 'IN' for India (entire country)\n",
    "# - 'RU' for Russia (entire country)\n",
    "# - '' for worldwide trends (default)\n",
    "geo = ''  # Example: Change this to 'IN' for India or 'RU' for Russia, or leave empty for worldwide trends\n",
    "\n",
    "# Category (cat) narrows down the results to a specific topic. Examples:\n",
    "# - 0 for all categories (default, no filter)\n",
    "# - 71 for Food & Drink (specific category)\n",
    "# - 7 for Business & Industrial\n",
    "# - 174 for Travel\n",
    "# - 23 for News\n",
    "# For a full list, you can inspect Google Trends URLs or consult online lists.\n",
    "cat = 0  # Example: Change this to '7' to filter by the Business & Industrial category\n",
    "\n",
    "# gprop refers to Google property, e.g., 'news', 'images', 'froogle', 'youtube', or leave empty for web search\n",
    "gprop = ''\n",
    "\n",
    "\n",
    "# Directory creation for saving files\n",
    "pickle_dir = 'pickles'\n",
    "csv_dir = 'csv'\n",
    "\n",
    "# Ensure the directories exist\n",
    "os.makedirs(pickle_dir, exist_ok=True)\n",
    "os.makedirs(csv_dir, exist_ok=True)\n",
    "\n",
    "# Define file naming based on query parameters (geo, category, and date range)\n",
    "pkl_filename = f'{pickle_dir}/{name}_{geo}_{cat}_{start}_{end}.pkl'\n",
    "csv_filename = f'{csv_dir}/{name}_{geo}_{cat}_{start}_{end}_google_trends.csv'\n",
    "\n",
    "# Load trends if pickle file exists, otherwise start with an empty list\n",
    "if os.path.exists(pkl_filename):\n",
    "    with open(pkl_filename, 'rb') as file:\n",
    "        trends = pickle.load(file)\n",
    "else:\n",
    "    trends = []\n",
    "\n",
    "# Index to track already queried keywords\n",
    "start_idx = len(trends)\n",
    "\n",
    "# Query for each keyword and append new data\n",
    "for i, keyword in enumerate(keywords[start_idx:], start=start_idx):\n",
    "    print(f\"Fetching trend data for: {keyword}\")\n",
    "    \n",
    "    # Fetch overlapping trend data for the given keyword\n",
    "    overlapping = gtrend.get_daily_trend(pytrend, keyword, start, end, geo=geo, cat=cat, gprop=gprop, verbose=True, tz=0)\n",
    "    \n",
    "    # Drop the overlap column and append to the list\n",
    "    trends.append(overlapping.drop(columns='overlap'))\n",
    "\n",
    "    # Save trends to pickle after each update\n",
    "    with open(pkl_filename, 'wb') as file:\n",
    "        pickle.dump(trends, file)\n",
    "    \n",
    "    print(f\"Saved updated trends to {pkl_filename}\")\n",
    "    \n",
    "    # Sleep to avoid being blocked by Google Trends API\n",
    "    time.sleep(random.gammavariate(2.99, 3.99) + 50)\n",
    "\n",
    "# Concatenate all trend data\n",
    "data = pd.concat(trends, axis=1)\n",
    "\n",
    "# Save the combined data as CSV\n",
    "data.to_csv(csv_filename, index=True)\n",
    "\n",
    "print(f\"Data saved to CSV: {csv_filename}\")\n",
    "\n",
    "# Perform PCA on the trend data\n",
    "print(\"Performing PCA on trend data...\")\n",
    "pca = PCA(n_components=1)  # We'll just use the first principal component\n",
    "pca_result = pca.fit_transform(data)\n",
    "\n",
    "# Convert PCA result to DataFrame\n",
    "pca_df = pd.DataFrame(pca_result, index=data.index, columns=[f'{name}_pca_component_1'])\n",
    "\n",
    "# Save the PCA results to a CSV file\n",
    "pca_csv_filename = f'{csv_dir}/{name}{geo}{cat}{start}{end}_pca_component_1.csv'\n",
    "pca_df.to_csv(pca_csv_filename)\n",
    "\n",
    "print(f\"PCA first component saved to CSV: {pca_csv_filename}\")\n",
    "\n",
    "# Optionally, display some information\n",
    "print(f\"Total number of trends collected: {len(trends)}\")\n",
    "print(f\"PCA explained variance ratio: {pca.explained_variance_ratio_[0]}\")\n"
   ]
  },
  {
   "cell_type": "code",
   "execution_count": null,
   "id": "9a493ddb-7e10-4d46-b89d-3b9263eb453a",
   "metadata": {},
   "outputs": [],
   "source": []
  }
 ],
 "metadata": {
  "kernelspec": {
   "display_name": "Python 3 (ipykernel)",
   "language": "python",
   "name": "python3"
  },
  "language_info": {
   "codemirror_mode": {
    "name": "ipython",
    "version": 3
   },
   "file_extension": ".py",
   "mimetype": "text/x-python",
   "name": "python",
   "nbconvert_exporter": "python",
   "pygments_lexer": "ipython3",
   "version": "3.12.5"
  }
 },
 "nbformat": 4,
 "nbformat_minor": 5
}
