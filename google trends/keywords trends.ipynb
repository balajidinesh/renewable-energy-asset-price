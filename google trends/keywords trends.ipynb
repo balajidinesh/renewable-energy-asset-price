{
 "cells": [
  {
   "cell_type": "code",
   "execution_count": 5,
   "metadata": {
    "scrolled": true
   },
   "outputs": [],
   "source": [
    "# !pip install pytrends\n",
    "import numpy as np\n",
    "import matplotlib.pyplot as plt\n",
    "from datetime import date, datetime, timedelta\n",
    "from pytrends.request import TrendReq\n",
    "from functools import reduce\n",
    "import time\n",
    "from statsmodels.tsa.stattools import adfuller\n",
    "import pandas as pd\n",
    "import random\n",
    "import matplotlib\n",
    "from sklearn.decomposition import PCA\n",
    "import pickle\n",
    "import gtrend   \n",
    "import math\n",
    "\n",
    "# plt.style.use('seaborn-darkgrid')\n",
    "# matplotlib.rcParams['font.family'] = ['Heiti TC']\n",
    "def rmax(maxrow: int=50):\n",
    "    pd.set_option('display.max_rows', maxrow)\n",
    "\n",
    "def cmax(maxcol: int=50):\n",
    "    pd.set_option('display.max_columns', maxcol)"
   ]
  },
  {
   "cell_type": "markdown",
   "metadata": {},
   "source": [
    "Setup the query terms and conditions"
   ]
  },
  {
   "cell_type": "code",
   "execution_count": 6,
   "metadata": {},
   "outputs": [],
   "source": [
    "pytrend = TrendReq(hl='en-US')\n",
    "keywords = [\"NASDAQ\", \"S&P 500\", \"ETF\", \"Clean Energy\",\"Renewable Energy\", \"Clean Tech Stocks\"]\n",
    "name = 'misc'\n",
    "start = '2014-01-01'\n",
    "end = '2020-01-01'\n",
    "geo=''\n",
    "cat=0\n",
    "gprop=''"
   ]
  },
  {
   "cell_type": "markdown",
   "metadata": {},
   "source": [
    "Acquire daily google trend data for over 9 month by concatenating multiple queries, and normalize(scaling) by the overlapping period (overlapping method)"
   ]
  },
  {
   "cell_type": "code",
   "execution_count": 22,
   "metadata": {},
   "outputs": [],
   "source": [
    "trends = []\n",
    "with open(f'pickles/{name}.pkl','rb') as file : \n",
    "    trends = pickle.load(file)"
   ]
  },
  {
   "cell_type": "code",
   "execution_count": 8,
   "metadata": {},
   "outputs": [],
   "source": [
    "s = len(trends)\n",
    "# time.sleep(random.gammavariate(2.99,3.99)+50)"
   ]
  },
  {
   "cell_type": "code",
   "execution_count": null,
   "metadata": {},
   "outputs": [],
   "source": [
    "k = s \n",
    "for i in keywords[k:] :\n",
    "    overlapping = gtrend.get_daily_trend(pytrend, i, start, end, geo=geo, cat=cat, gprop=gprop, verbose=True, tz=0)\n",
    "    trends.append(overlapping.drop(columns='overlap'))\n",
    "    s = s+1"
   ]
  },
  {
   "cell_type": "code",
   "execution_count": 11,
   "metadata": {},
   "outputs": [
    {
     "data": {
      "text/plain": [
       "7"
      ]
     },
     "execution_count": 11,
     "metadata": {},
     "output_type": "execute_result"
    }
   ],
   "source": [
    "len(trends)"
   ]
  },
  {
   "cell_type": "code",
   "execution_count": 12,
   "metadata": {},
   "outputs": [],
   "source": [
    "data = pd.concat(trends,axis=1)\n",
    "data.to_csv(f\"csv/{name}_google_trends.csv\", index=True)\n",
    "\n",
    "with open(f'pickles/{name}.pkl', 'wb') as file:\n",
    "    pickle.dump(trends, file)\n",
    "\n"
   ]
  }
 ],
 "metadata": {
  "kernelspec": {
   "display_name": "Python 3 (ipykernel)",
   "language": "python",
   "name": "python3"
  },
  "language_info": {
   "codemirror_mode": {
    "name": "ipython",
    "version": 3
   },
   "file_extension": ".py",
   "mimetype": "text/x-python",
   "name": "python",
   "nbconvert_exporter": "python",
   "pygments_lexer": "ipython3",
   "version": "3.12.1"
  },
  "varInspector": {
   "cols": {
    "lenName": 16,
    "lenType": 16,
    "lenVar": 40
   },
   "kernels_config": {
    "python": {
     "delete_cmd_postfix": "",
     "delete_cmd_prefix": "del ",
     "library": "var_list.py",
     "varRefreshCmd": "print(var_dic_list())"
    },
    "r": {
     "delete_cmd_postfix": ") ",
     "delete_cmd_prefix": "rm(",
     "library": "var_list.r",
     "varRefreshCmd": "cat(var_dic_list()) "
    }
   },
   "oldHeight": 122,
   "position": {
    "height": "40px",
    "left": "970px",
    "right": "20px",
    "top": "120px",
    "width": "250px"
   },
   "types_to_exclude": [
    "module",
    "function",
    "builtin_function_or_method",
    "instance",
    "_Feature"
   ],
   "varInspector_section_display": "none",
   "window_display": true
  }
 },
 "nbformat": 4,
 "nbformat_minor": 4
}
